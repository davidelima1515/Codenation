{
 "cells": [
  {
   "cell_type": "code",
   "execution_count": 64,
   "metadata": {},
   "outputs": [],
   "source": [
    "#invocando o modulo pandas como pd\n",
    "import pandas as pd"
   ]
  },
  {
   "cell_type": "code",
   "execution_count": 65,
   "metadata": {},
   "outputs": [],
   "source": [
    "#lendo e salvando o arquivo csv no dataframe df\n",
    "df = pd.read_csv('desafio1.csv', usecols=['id','estado_residencia','pontuacao_credito'])"
   ]
  },
  {
   "cell_type": "code",
   "execution_count": 66,
   "metadata": {},
   "outputs": [],
   "source": [
    "#filtrando os valores únicos de estado_residencia dentro de df\n",
    "lista_de_estados = df['estado_residencia'].unique()"
   ]
  },
  {
   "cell_type": "code",
   "execution_count": 67,
   "metadata": {},
   "outputs": [],
   "source": [
    "#criando um dicionario com os valores requisitados pelo desafio (moda, mediana, media e desvio padrão)\n",
    "dicionario_resposta = {}\n",
    "for iterador in lista_de_estados:\n",
    "    dicionario_resposta[iterador] = {\n",
    "        \n",
    "        \"moda\":int(df[df['estado_residencia'] == iterador]['pontuacao_credito'].mode()),\n",
    "        \"mediana\": df[df['estado_residencia']==iterador]['pontuacao_credito'].median(),\n",
    "        \"media\": df[df['estado_residencia']==iterador]['pontuacao_credito'].mean(),\n",
    "        \"desvio_padrao\": df[df['estado_residencia'] == iterador]['pontuacao_credito'].std()\n",
    "    \n",
    "    }"
   ]
  },
  {
   "cell_type": "code",
   "execution_count": 68,
   "metadata": {},
   "outputs": [
    {
     "data": {
      "text/plain": [
       "{'SC': {'moda': 850,\n",
       "  'mediana': 653.0,\n",
       "  'media': 649.5376527422563,\n",
       "  'desvio_padrao': 97.233492793433},\n",
       " 'RS': {'moda': 850,\n",
       "  'mediana': 650.0,\n",
       "  'media': 651.1051428571428,\n",
       "  'desvio_padrao': 95.13659841383574},\n",
       " 'PR': {'moda': 850,\n",
       "  'mediana': 650.0,\n",
       "  'media': 648.9612940496822,\n",
       "  'desvio_padrao': 98.60718591309758}}"
      ]
     },
     "execution_count": 68,
     "metadata": {},
     "output_type": "execute_result"
    }
   ],
   "source": [
    "#checando se o dicionario gerou o output esperado\n",
    "dicionario_resposta"
   ]
  },
  {
   "cell_type": "code",
   "execution_count": 69,
   "metadata": {},
   "outputs": [
    {
     "name": "stdout",
     "output_type": "stream",
     "text": [
      "                       SC          RS          PR\n",
      "desvio_padrao   97.233493   95.136598   98.607186\n",
      "media          649.537653  651.105143  648.961294\n",
      "mediana        653.000000  650.000000  650.000000\n",
      "moda           850.000000  850.000000  850.000000\n"
     ]
    }
   ],
   "source": [
    "#transformando o dicionario num datafram de resposta\n",
    "df_resposta = pd.DataFrame(dicionario_resposta)\n",
    "print(df_resposta)"
   ]
  },
  {
   "cell_type": "code",
   "execution_count": 70,
   "metadata": {},
   "outputs": [],
   "source": [
    "#transformando o dicionario em um arquivo json \n",
    "df_resposta.to_json('submission.json')"
   ]
  }
 ],
 "metadata": {
  "kernelspec": {
   "display_name": "Python 3.7.6 32-bit ('venv': virtualenv)",
   "language": "python",
   "name": "python37632bitvenvvirtualenv1182be4b28d84d5fbffa1001ff096bcc"
  },
  "language_info": {
   "codemirror_mode": {
    "name": "ipython",
    "version": 3
   },
   "file_extension": ".py",
   "mimetype": "text/x-python",
   "name": "python",
   "nbconvert_exporter": "python",
   "pygments_lexer": "ipython3",
   "version": "3.7.6"
  }
 },
 "nbformat": 4,
 "nbformat_minor": 4
}
